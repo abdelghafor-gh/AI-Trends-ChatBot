{
 "cells": [
  {
   "cell_type": "code",
   "execution_count": 0,
   "metadata": {
    "application/vnd.databricks.v1+cell": {
     "cellMetadata": {
      "byteLimit": 2048000,
      "rowLimit": 10000
     },
     "inputWidgets": {},
     "nuid": "06fad1bf-9f17-452a-9122-c8efa36c8304",
     "showTitle": false,
     "tableResultSettingsMap": {},
     "title": ""
    }
   },
   "outputs": [],
   "source": [
    "\n",
    "import logging\n",
    "\n",
    "# Specify the file path in your ADLS\n",
    "new_chunks_path = \"/mnt/silver-layer/new_chunks.parquet\"\n",
    "\n",
    "# Check if the file exists\n",
    "try:\n",
    "    files = dbutils.fs.ls(new_chunks_path)\n",
    "    logging.info(\"File exists.\")\n",
    "except Exception as e:\n",
    "    logging.error(\"No New Data Found\")\n",
    "    raise e"
   ]
  },
  {
   "cell_type": "code",
   "execution_count": 0,
   "metadata": {
    "application/vnd.databricks.v1+cell": {
     "cellMetadata": {
      "byteLimit": 2048000,
      "rowLimit": 10000
     },
     "inputWidgets": {},
     "nuid": "c7b3c501-e37e-472b-a43a-64fcff330fbf",
     "showTitle": false,
     "tableResultSettingsMap": {},
     "title": ""
    }
   },
   "outputs": [
    {
     "output_type": "stream",
     "name": "stdout",
     "output_type": "stream",
     "text": [
      "Requirement already satisfied: azure-search-documents==11.4.0 in /local_disk0/.ephemeral_nfs/envs/pythonEnv-e603dea3-8e7e-4724-8112-68a48e36ef65/lib/python3.11/site-packages (11.4.0)\nRequirement already satisfied: azure-core<2.0.0,>=1.28.0 in /databricks/python3/lib/python3.11/site-packages (from azure-search-documents==11.4.0) (1.30.2)\nRequirement already satisfied: azure-common~=1.1 in /local_disk0/.ephemeral_nfs/envs/pythonEnv-e603dea3-8e7e-4724-8112-68a48e36ef65/lib/python3.11/site-packages (from azure-search-documents==11.4.0) (1.1.28)\nRequirement already satisfied: isodate>=0.6.0 in /databricks/python3/lib/python3.11/site-packages (from azure-search-documents==11.4.0) (0.6.1)\nRequirement already satisfied: requests>=2.21.0 in /databricks/python3/lib/python3.11/site-packages (from azure-core<2.0.0,>=1.28.0->azure-search-documents==11.4.0) (2.31.0)\nRequirement already satisfied: six>=1.11.0 in /usr/lib/python3/dist-packages (from azure-core<2.0.0,>=1.28.0->azure-search-documents==11.4.0) (1.16.0)\nRequirement already satisfied: typing-extensions>=4.6.0 in /databricks/python3/lib/python3.11/site-packages (from azure-core<2.0.0,>=1.28.0->azure-search-documents==11.4.0) (4.10.0)\nRequirement already satisfied: charset-normalizer<4,>=2 in /databricks/python3/lib/python3.11/site-packages (from requests>=2.21.0->azure-core<2.0.0,>=1.28.0->azure-search-documents==11.4.0) (2.0.4)\nRequirement already satisfied: idna<4,>=2.5 in /databricks/python3/lib/python3.11/site-packages (from requests>=2.21.0->azure-core<2.0.0,>=1.28.0->azure-search-documents==11.4.0) (3.4)\nRequirement already satisfied: urllib3<3,>=1.21.1 in /databricks/python3/lib/python3.11/site-packages (from requests>=2.21.0->azure-core<2.0.0,>=1.28.0->azure-search-documents==11.4.0) (1.26.16)\nRequirement already satisfied: certifi>=2017.4.17 in /databricks/python3/lib/python3.11/site-packages (from requests>=2.21.0->azure-core<2.0.0,>=1.28.0->azure-search-documents==11.4.0) (2023.7.22)\n\u001B[43mNote: you may need to restart the kernel using %restart_python or dbutils.library.restartPython() to use updated packages.\u001B[0m\n"
     ]
    }
   ],
   "source": [
    "pip install azure-search-documents==11.4.0\n"
   ]
  },
  {
   "cell_type": "code",
   "execution_count": 0,
   "metadata": {
    "application/vnd.databricks.v1+cell": {
     "cellMetadata": {
      "byteLimit": 2048000,
      "rowLimit": 10000
     },
     "inputWidgets": {},
     "nuid": "6391994d-7050-4a97-aeac-46f74296a35b",
     "showTitle": false,
     "tableResultSettingsMap": {},
     "title": ""
    }
   },
   "outputs": [],
   "source": [
    "new_chunks_df  = spark.read.parquet(new_chunks_path)\n"
   ]
  },
  {
   "cell_type": "code",
   "execution_count": 0,
   "metadata": {
    "application/vnd.databricks.v1+cell": {
     "cellMetadata": {
      "byteLimit": 2048000,
      "rowLimit": 10000
     },
     "inputWidgets": {},
     "nuid": "afa6937c-80a2-4622-a83f-c3f7a69ef939",
     "showTitle": false,
     "tableResultSettingsMap": {},
     "title": ""
    }
   },
   "outputs": [],
   "source": [
    "chunks = new_chunks_df.select(\"chunk_text\").rdd.flatMap(lambda x: x).collect()"
   ]
  },
  {
   "cell_type": "code",
   "execution_count": 0,
   "metadata": {
    "application/vnd.databricks.v1+cell": {
     "cellMetadata": {
      "byteLimit": 2048000,
      "rowLimit": 10000
     },
     "inputWidgets": {},
     "nuid": "70996759-ebd7-4488-9034-ad20f4b6f652",
     "showTitle": false,
     "tableResultSettingsMap": {},
     "title": ""
    }
   },
   "outputs": [
    {
     "output_type": "stream",
     "name": "stdout",
     "output_type": "stream",
     "text": [
      "Requirement already satisfied: sentence-transformers in /local_disk0/.ephemeral_nfs/envs/pythonEnv-e603dea3-8e7e-4724-8112-68a48e36ef65/lib/python3.11/site-packages (3.3.1)\nRequirement already satisfied: transformers<5.0.0,>=4.41.0 in /local_disk0/.ephemeral_nfs/envs/pythonEnv-e603dea3-8e7e-4724-8112-68a48e36ef65/lib/python3.11/site-packages (from sentence-transformers) (4.47.0)\nRequirement already satisfied: tqdm in /local_disk0/.ephemeral_nfs/envs/pythonEnv-e603dea3-8e7e-4724-8112-68a48e36ef65/lib/python3.11/site-packages (from sentence-transformers) (4.67.1)\nRequirement already satisfied: torch>=1.11.0 in /local_disk0/.ephemeral_nfs/envs/pythonEnv-e603dea3-8e7e-4724-8112-68a48e36ef65/lib/python3.11/site-packages (from sentence-transformers) (2.5.1)\nRequirement already satisfied: scikit-learn in /databricks/python3/lib/python3.11/site-packages (from sentence-transformers) (1.3.0)\nRequirement already satisfied: scipy in /databricks/python3/lib/python3.11/site-packages (from sentence-transformers) (1.11.1)\nRequirement already satisfied: huggingface-hub>=0.20.0 in /local_disk0/.ephemeral_nfs/envs/pythonEnv-e603dea3-8e7e-4724-8112-68a48e36ef65/lib/python3.11/site-packages (from sentence-transformers) (0.26.5)\nRequirement already satisfied: Pillow in /databricks/python3/lib/python3.11/site-packages (from sentence-transformers) (9.4.0)\nRequirement already satisfied: filelock in /databricks/python3/lib/python3.11/site-packages (from huggingface-hub>=0.20.0->sentence-transformers) (3.13.4)\nRequirement already satisfied: fsspec>=2023.5.0 in /local_disk0/.ephemeral_nfs/envs/pythonEnv-e603dea3-8e7e-4724-8112-68a48e36ef65/lib/python3.11/site-packages (from huggingface-hub>=0.20.0->sentence-transformers) (2024.10.0)\nRequirement already satisfied: packaging>=20.9 in /databricks/python3/lib/python3.11/site-packages (from huggingface-hub>=0.20.0->sentence-transformers) (23.2)\nRequirement already satisfied: pyyaml>=5.1 in /databricks/python3/lib/python3.11/site-packages (from huggingface-hub>=0.20.0->sentence-transformers) (6.0)\nRequirement already satisfied: requests in /databricks/python3/lib/python3.11/site-packages (from huggingface-hub>=0.20.0->sentence-transformers) (2.31.0)\nRequirement already satisfied: typing-extensions>=3.7.4.3 in /databricks/python3/lib/python3.11/site-packages (from huggingface-hub>=0.20.0->sentence-transformers) (4.10.0)\nRequirement already satisfied: networkx in /local_disk0/.ephemeral_nfs/envs/pythonEnv-e603dea3-8e7e-4724-8112-68a48e36ef65/lib/python3.11/site-packages (from torch>=1.11.0->sentence-transformers) (3.4.2)\nRequirement already satisfied: jinja2 in /local_disk0/.ephemeral_nfs/envs/pythonEnv-e603dea3-8e7e-4724-8112-68a48e36ef65/lib/python3.11/site-packages (from torch>=1.11.0->sentence-transformers) (3.1.4)\nRequirement already satisfied: nvidia-cuda-nvrtc-cu12==12.4.127 in /local_disk0/.ephemeral_nfs/envs/pythonEnv-e603dea3-8e7e-4724-8112-68a48e36ef65/lib/python3.11/site-packages (from torch>=1.11.0->sentence-transformers) (12.4.127)\nRequirement already satisfied: nvidia-cuda-runtime-cu12==12.4.127 in /local_disk0/.ephemeral_nfs/envs/pythonEnv-e603dea3-8e7e-4724-8112-68a48e36ef65/lib/python3.11/site-packages (from torch>=1.11.0->sentence-transformers) (12.4.127)\nRequirement already satisfied: nvidia-cuda-cupti-cu12==12.4.127 in /local_disk0/.ephemeral_nfs/envs/pythonEnv-e603dea3-8e7e-4724-8112-68a48e36ef65/lib/python3.11/site-packages (from torch>=1.11.0->sentence-transformers) (12.4.127)\nRequirement already satisfied: nvidia-cudnn-cu12==9.1.0.70 in /local_disk0/.ephemeral_nfs/envs/pythonEnv-e603dea3-8e7e-4724-8112-68a48e36ef65/lib/python3.11/site-packages (from torch>=1.11.0->sentence-transformers) (9.1.0.70)\nRequirement already satisfied: nvidia-cublas-cu12==12.4.5.8 in /local_disk0/.ephemeral_nfs/envs/pythonEnv-e603dea3-8e7e-4724-8112-68a48e36ef65/lib/python3.11/site-packages (from torch>=1.11.0->sentence-transformers) (12.4.5.8)\nRequirement already satisfied: nvidia-cufft-cu12==11.2.1.3 in /local_disk0/.ephemeral_nfs/envs/pythonEnv-e603dea3-8e7e-4724-8112-68a48e36ef65/lib/python3.11/site-packages (from torch>=1.11.0->sentence-transformers) (11.2.1.3)\nRequirement already satisfied: nvidia-curand-cu12==10.3.5.147 in /local_disk0/.ephemeral_nfs/envs/pythonEnv-e603dea3-8e7e-4724-8112-68a48e36ef65/lib/python3.11/site-packages (from torch>=1.11.0->sentence-transformers) (10.3.5.147)\nRequirement already satisfied: nvidia-cusolver-cu12==11.6.1.9 in /local_disk0/.ephemeral_nfs/envs/pythonEnv-e603dea3-8e7e-4724-8112-68a48e36ef65/lib/python3.11/site-packages (from torch>=1.11.0->sentence-transformers) (11.6.1.9)\nRequirement already satisfied: nvidia-cusparse-cu12==12.3.1.170 in /local_disk0/.ephemeral_nfs/envs/pythonEnv-e603dea3-8e7e-4724-8112-68a48e36ef65/lib/python3.11/site-packages (from torch>=1.11.0->sentence-transformers) (12.3.1.170)\nRequirement already satisfied: nvidia-nccl-cu12==2.21.5 in /local_disk0/.ephemeral_nfs/envs/pythonEnv-e603dea3-8e7e-4724-8112-68a48e36ef65/lib/python3.11/site-packages (from torch>=1.11.0->sentence-transformers) (2.21.5)\nRequirement already satisfied: nvidia-nvtx-cu12==12.4.127 in /local_disk0/.ephemeral_nfs/envs/pythonEnv-e603dea3-8e7e-4724-8112-68a48e36ef65/lib/python3.11/site-packages (from torch>=1.11.0->sentence-transformers) (12.4.127)\nRequirement already satisfied: nvidia-nvjitlink-cu12==12.4.127 in /local_disk0/.ephemeral_nfs/envs/pythonEnv-e603dea3-8e7e-4724-8112-68a48e36ef65/lib/python3.11/site-packages (from torch>=1.11.0->sentence-transformers) (12.4.127)\nRequirement already satisfied: triton==3.1.0 in /local_disk0/.ephemeral_nfs/envs/pythonEnv-e603dea3-8e7e-4724-8112-68a48e36ef65/lib/python3.11/site-packages (from torch>=1.11.0->sentence-transformers) (3.1.0)\nRequirement already satisfied: sympy==1.13.1 in /local_disk0/.ephemeral_nfs/envs/pythonEnv-e603dea3-8e7e-4724-8112-68a48e36ef65/lib/python3.11/site-packages (from torch>=1.11.0->sentence-transformers) (1.13.1)\nRequirement already satisfied: mpmath<1.4,>=1.1.0 in /local_disk0/.ephemeral_nfs/envs/pythonEnv-e603dea3-8e7e-4724-8112-68a48e36ef65/lib/python3.11/site-packages (from sympy==1.13.1->torch>=1.11.0->sentence-transformers) (1.3.0)\nRequirement already satisfied: numpy>=1.17 in /databricks/python3/lib/python3.11/site-packages (from transformers<5.0.0,>=4.41.0->sentence-transformers) (1.23.5)\nRequirement already satisfied: regex!=2019.12.17 in /local_disk0/.ephemeral_nfs/envs/pythonEnv-e603dea3-8e7e-4724-8112-68a48e36ef65/lib/python3.11/site-packages (from transformers<5.0.0,>=4.41.0->sentence-transformers) (2024.11.6)\nRequirement already satisfied: tokenizers<0.22,>=0.21 in /local_disk0/.ephemeral_nfs/envs/pythonEnv-e603dea3-8e7e-4724-8112-68a48e36ef65/lib/python3.11/site-packages (from transformers<5.0.0,>=4.41.0->sentence-transformers) (0.21.0)\nRequirement already satisfied: safetensors>=0.4.1 in /local_disk0/.ephemeral_nfs/envs/pythonEnv-e603dea3-8e7e-4724-8112-68a48e36ef65/lib/python3.11/site-packages (from transformers<5.0.0,>=4.41.0->sentence-transformers) (0.4.5)\nRequirement already satisfied: joblib>=1.1.1 in /databricks/python3/lib/python3.11/site-packages (from scikit-learn->sentence-transformers) (1.2.0)\nRequirement already satisfied: threadpoolctl>=2.0.0 in /databricks/python3/lib/python3.11/site-packages (from scikit-learn->sentence-transformers) (2.2.0)\nRequirement already satisfied: MarkupSafe>=2.0 in /local_disk0/.ephemeral_nfs/envs/pythonEnv-e603dea3-8e7e-4724-8112-68a48e36ef65/lib/python3.11/site-packages (from jinja2->torch>=1.11.0->sentence-transformers) (3.0.2)\nRequirement already satisfied: charset-normalizer<4,>=2 in /databricks/python3/lib/python3.11/site-packages (from requests->huggingface-hub>=0.20.0->sentence-transformers) (2.0.4)\nRequirement already satisfied: idna<4,>=2.5 in /databricks/python3/lib/python3.11/site-packages (from requests->huggingface-hub>=0.20.0->sentence-transformers) (3.4)\nRequirement already satisfied: urllib3<3,>=1.21.1 in /databricks/python3/lib/python3.11/site-packages (from requests->huggingface-hub>=0.20.0->sentence-transformers) (1.26.16)\nRequirement already satisfied: certifi>=2017.4.17 in /databricks/python3/lib/python3.11/site-packages (from requests->huggingface-hub>=0.20.0->sentence-transformers) (2023.7.22)\n\u001B[43mNote: you may need to restart the kernel using %restart_python or dbutils.library.restartPython() to use updated packages.\u001B[0m\n"
     ]
    }
   ],
   "source": [
    "%pip install sentence-transformers\n"
   ]
  },
  {
   "cell_type": "code",
   "execution_count": 0,
   "metadata": {
    "application/vnd.databricks.v1+cell": {
     "cellMetadata": {
      "byteLimit": 2048000,
      "rowLimit": 10000
     },
     "inputWidgets": {},
     "nuid": "8151af9d-b17c-4e4b-b852-48f2aece1169",
     "showTitle": false,
     "tableResultSettingsMap": {},
     "title": ""
    }
   },
   "outputs": [
    {
     "output_type": "display_data",
     "data": {
      "application/vnd.jupyter.widget-view+json": {
       "model_id": "9e8ba4df798b4de4bd81cebe7b8ad95d",
       "version_major": 2,
       "version_minor": 0
      },
      "text/plain": [
       "modules.json:   0%|          | 0.00/349 [00:00<?, ?B/s]"
      ]
     },
     "metadata": {},
     "output_type": "display_data"
    },
    {
     "output_type": "display_data",
     "data": {
      "application/vnd.jupyter.widget-view+json": {
       "model_id": "4c4f7ee9502b4563975d5c5787ae1b00",
       "version_major": 2,
       "version_minor": 0
      },
      "text/plain": [
       "config_sentence_transformers.json:   0%|          | 0.00/116 [00:00<?, ?B/s]"
      ]
     },
     "metadata": {},
     "output_type": "display_data"
    },
    {
     "output_type": "display_data",
     "data": {
      "application/vnd.jupyter.widget-view+json": {
       "model_id": "7b24862ed52e442da747a413bc1db75c",
       "version_major": 2,
       "version_minor": 0
      },
      "text/plain": [
       "README.md:   0%|          | 0.00/10.7k [00:00<?, ?B/s]"
      ]
     },
     "metadata": {},
     "output_type": "display_data"
    },
    {
     "output_type": "display_data",
     "data": {
      "application/vnd.jupyter.widget-view+json": {
       "model_id": "2a0f262ac0ae40e7a401373ab095ddd8",
       "version_major": 2,
       "version_minor": 0
      },
      "text/plain": [
       "sentence_bert_config.json:   0%|          | 0.00/53.0 [00:00<?, ?B/s]"
      ]
     },
     "metadata": {},
     "output_type": "display_data"
    },
    {
     "output_type": "display_data",
     "data": {
      "application/vnd.jupyter.widget-view+json": {
       "model_id": "be3b374f12f342fe8eab19cc0252d62f",
       "version_major": 2,
       "version_minor": 0
      },
      "text/plain": [
       "config.json:   0%|          | 0.00/612 [00:00<?, ?B/s]"
      ]
     },
     "metadata": {},
     "output_type": "display_data"
    },
    {
     "output_type": "display_data",
     "data": {
      "application/vnd.jupyter.widget-view+json": {
       "model_id": "ff56e768823045ba9fc98f6c4ca3b3d4",
       "version_major": 2,
       "version_minor": 0
      },
      "text/plain": [
       "model.safetensors:   0%|          | 0.00/90.9M [00:00<?, ?B/s]"
      ]
     },
     "metadata": {},
     "output_type": "display_data"
    },
    {
     "output_type": "display_data",
     "data": {
      "application/vnd.jupyter.widget-view+json": {
       "model_id": "1a6ae65a2c1c487c9150150cc4631f23",
       "version_major": 2,
       "version_minor": 0
      },
      "text/plain": [
       "tokenizer_config.json:   0%|          | 0.00/350 [00:00<?, ?B/s]"
      ]
     },
     "metadata": {},
     "output_type": "display_data"
    },
    {
     "output_type": "display_data",
     "data": {
      "application/vnd.jupyter.widget-view+json": {
       "model_id": "2bdd33462ef843dd90311b2ab1b24639",
       "version_major": 2,
       "version_minor": 0
      },
      "text/plain": [
       "vocab.txt:   0%|          | 0.00/232k [00:00<?, ?B/s]"
      ]
     },
     "metadata": {},
     "output_type": "display_data"
    },
    {
     "output_type": "display_data",
     "data": {
      "application/vnd.jupyter.widget-view+json": {
       "model_id": "cfa69592ffc94628b54d3384aa009ecb",
       "version_major": 2,
       "version_minor": 0
      },
      "text/plain": [
       "tokenizer.json:   0%|          | 0.00/466k [00:00<?, ?B/s]"
      ]
     },
     "metadata": {},
     "output_type": "display_data"
    },
    {
     "output_type": "display_data",
     "data": {
      "application/vnd.jupyter.widget-view+json": {
       "model_id": "852003e7167b408b984009f80b5fa24b",
       "version_major": 2,
       "version_minor": 0
      },
      "text/plain": [
       "special_tokens_map.json:   0%|          | 0.00/112 [00:00<?, ?B/s]"
      ]
     },
     "metadata": {},
     "output_type": "display_data"
    },
    {
     "output_type": "display_data",
     "data": {
      "application/vnd.jupyter.widget-view+json": {
       "model_id": "0f12fce9920b4abd8d5735a22769b7a7",
       "version_major": 2,
       "version_minor": 0
      },
      "text/plain": [
       "1_Pooling/config.json:   0%|          | 0.00/190 [00:00<?, ?B/s]"
      ]
     },
     "metadata": {},
     "output_type": "display_data"
    },
    {
     "output_type": "display_data",
     "data": {
      "application/vnd.jupyter.widget-view+json": {
       "model_id": "2de05afa1a3a4767a74f7311aa4bc900",
       "version_major": 2,
       "version_minor": 0
      },
      "text/plain": [
       "Batches:   0%|          | 0/2286 [00:00<?, ?it/s]"
      ]
     },
     "metadata": {},
     "output_type": "display_data"
    },
    {
     "output_type": "stream",
     "name": "stderr",
     "output_type": "stream",
     "text": [
      "huggingface/tokenizers: The current process just got forked, after parallelism has already been used. Disabling parallelism to avoid deadlocks...\nTo disable this warning, you can either:\n\t- Avoid using `tokenizers` before the fork if possible\n\t- Explicitly set the environment variable TOKENIZERS_PARALLELISM=(true | false)\n"
     ]
    }
   ],
   "source": [
    "from sentence_transformers import SentenceTransformer\n",
    "\n",
    "# Load a local embedding model\n",
    "model = SentenceTransformer('all-MiniLM-L6-v2')\n",
    "\n",
    "embeddings = model.encode(chunks, batch_size=32, show_progress_bar=True)"
   ]
  },
  {
   "cell_type": "code",
   "execution_count": 0,
   "metadata": {
    "application/vnd.databricks.v1+cell": {
     "cellMetadata": {
      "byteLimit": 2048000,
      "rowLimit": 10000
     },
     "inputWidgets": {},
     "nuid": "03f8f6dd-89c8-44da-a982-f303f9a10852",
     "showTitle": false,
     "tableResultSettingsMap": {},
     "title": ""
    }
   },
   "outputs": [],
   "source": [
    "from pyspark.sql.types import *\n",
    "\n",
    "embeddings_data_list =[]\n",
    "for row , embbed_vec  in zip(new_chunks_df.rdd.collect(),embeddings):\n",
    "    if not row.pub_date:\n",
    "        continue\n",
    "    \n",
    "    data = {\n",
    "        \"embedd_vec_id\":row.chunk_id,\n",
    "        \"pub_date\": row.pub_date,\n",
    "        \"chunk_text\": row.chunk_text,\n",
    "        \"start_index\": row.start_index,\n",
    "        \"end_index\":row.end_index,\n",
    "        \"embedding_vec\": [float(x) for x in list(embbed_vec)]\n",
    "    }\n",
    "    embeddings_data_list.append(data)\n",
    "\n",
    "\n"
   ]
  },
  {
   "cell_type": "code",
   "execution_count": 0,
   "metadata": {
    "application/vnd.databricks.v1+cell": {
     "cellMetadata": {
      "byteLimit": 2048000,
      "rowLimit": 10000
     },
     "inputWidgets": {},
     "nuid": "d468e3d7-5592-45f8-9c37-7a8e51942f7e",
     "showTitle": false,
     "tableResultSettingsMap": {},
     "title": ""
    }
   },
   "outputs": [],
   "source": [
    "from azure.search.documents import SearchClient\n",
    "from azure.core.credentials import AzureKeyCredential\n",
    "\n",
    "\n",
    "# Initialize the SearchClient\n",
    "service_endpoint = \"https://iat-dp-vec-ser.search.windows.net\"\n",
    "admin_key = \"gyliiZboxtLW4MFOalWeth2LASxf5HEpuWJVNjd0FGAzSeBzigEu\"\n",
    "index_name = \"news_chunks_embedding_extra\"\n",
    "\n",
    "credential = AzureKeyCredential(admin_key)\n",
    "search_client = SearchClient(service_endpoint, index_name, credential)\n",
    "\n",
    "\n",
    "\n",
    "# Upload the documents\n",
    "result = search_client.upload_documents(embeddings_data_list)\n",
    "\n",
    "# Check if the upload was successful for each document\n",
    "for res in result:\n",
    "    if res.succeeded:\n",
    "        print(f\"Document with ID {res.key} uploaded successfully.\")\n",
    "        break\n",
    "    else:\n",
    "        print(f\"Failed to upload document with ID {res.key}. Error message: {res.error_message}\")\n"
   ]
  },
  {
   "cell_type": "code",
   "execution_count": 0,
   "metadata": {
    "application/vnd.databricks.v1+cell": {
     "cellMetadata": {
      "byteLimit": 2048000,
      "rowLimit": 10000
     },
     "inputWidgets": {},
     "nuid": "75520b2f-2489-422c-bc30-5ad4c14f30aa",
     "showTitle": false,
     "tableResultSettingsMap": {},
     "title": ""
    }
   },
   "outputs": [
    {
     "output_type": "execute_result",
     "data": {
      "text/plain": [
       "True"
      ]
     },
     "execution_count": 58,
     "metadata": {},
     "output_type": "execute_result"
    }
   ],
   "source": [
    "\n",
    "\n",
    "# # Specify the file path in your ADLS\n",
    "chunks_path = \"/mnt/silver-layer/processed_data/chunks.parquet\"\n",
    "\n",
    "# Check if the file exists\n",
    "try:\n",
    "    files = dbutils.fs.ls(chunks_path)\n",
    "\n",
    "    #if it passed this step so there is a file \n",
    "\n",
    "    new_chunks_df.write.mode(\"append\").parquet(chunks_path)\n",
    "except Exception as e:\n",
    "    new_chunks_df.write.parquet(chunks_path)\n",
    "\n",
    "\n",
    "# remove the new_data file because it have been processed \n",
    "dbutils.fs.rm(new_chunks_path, recurse=True)"
   ]
  },
  {
   "cell_type": "code",
   "execution_count": 0,
   "metadata": {
    "application/vnd.databricks.v1+cell": {
     "cellMetadata": {
      "byteLimit": 2048000,
      "rowLimit": 10000
     },
     "inputWidgets": {},
     "nuid": "3020b34a-1eec-433c-b3b8-d4767e2d1326",
     "showTitle": false,
     "tableResultSettingsMap": {},
     "title": ""
    }
   },
   "outputs": [
    {
     "output_type": "execute_result",
     "data": {
      "text/plain": [
       "69000"
      ]
     },
     "execution_count": 24,
     "metadata": {},
     "output_type": "execute_result"
    }
   ],
   "source": [
    "len(embeddings_data_list)"
   ]
  },
  {
   "cell_type": "code",
   "execution_count": 0,
   "metadata": {
    "application/vnd.databricks.v1+cell": {
     "cellMetadata": {
      "byteLimit": 2048000,
      "rowLimit": 10000
     },
     "inputWidgets": {},
     "nuid": "6982b0e1-c345-4456-8788-a6ab4a7e5673",
     "showTitle": false,
     "tableResultSettingsMap": {},
     "title": ""
    }
   },
   "outputs": [],
   "source": [
    "# Define the schema\n",
    "# schema = StructType([\n",
    "#     StructField(\"embedd_vec_id\", StringType(), True),\n",
    "#     StructField(\"pub_date\", DateType(), True),\n",
    "#     StructField(\"chunk_text\", StringType(), True),\n",
    "#     StructField(\"start_index\", IntegerType(), True),\n",
    "#     StructField(\"end_index\", IntegerType(), True),\n",
    "#     StructField(\"embedding_vec\", ArrayType(FloatType()), True),  # Embedding as array of floats\n",
    "# ])\n",
    "\n",
    "# # Create the Spark DataFrame\n",
    "# embedding_df = spark.createDataFrame(embeddings_data_list, schema)\n",
    "\n",
    "# # Show the DataFrame\n",
    "# embedding_df.show(truncate=True)"
   ]
  },
  {
   "cell_type": "code",
   "execution_count": 0,
   "metadata": {
    "application/vnd.databricks.v1+cell": {
     "cellMetadata": {},
     "inputWidgets": {},
     "nuid": "5b4354fb-0547-40db-9bd7-d003eb8f8ef4",
     "showTitle": false,
     "tableResultSettingsMap": {},
     "title": ""
    }
   },
   "outputs": [],
   "source": []
  }
 ],
 "metadata": {
  "application/vnd.databricks.v1+notebook": {
   "computePreferences": null,
   "dashboards": [],
   "environmentMetadata": {
    "base_environment": "",
    "client": "1"
   },
   "language": "python",
   "notebookMetadata": {
    "pythonIndentUnit": 4
   },
   "notebookName": "silver2gold",
   "widgets": {}
  },
  "language_info": {
   "name": "python"
  }
 },
 "nbformat": 4,
 "nbformat_minor": 0
}