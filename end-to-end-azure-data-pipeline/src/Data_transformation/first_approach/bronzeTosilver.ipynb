{
 "cells": [
  {
   "cell_type": "code",
   "execution_count": 0,
   "metadata": {
    "application/vnd.databricks.v1+cell": {
     "cellMetadata": {
      "byteLimit": 2048000,
      "rowLimit": 10000
     },
     "inputWidgets": {},
     "nuid": "c5d40d36-ef73-4742-891d-dd9873da524b",
     "showTitle": false,
     "tableResultSettingsMap": {},
     "title": ""
    }
   },
   "outputs": [],
   "source": [
    "pip install langchain"
   ]
  },
  {
   "cell_type": "code",
   "execution_count": 0,
   "metadata": {
    "application/vnd.databricks.v1+cell": {
     "cellMetadata": {
      "byteLimit": 2048000,
      "rowLimit": 10000
     },
     "inputWidgets": {},
     "nuid": "2e043e06-7133-4788-b7a7-6b0d7e510e1a",
     "showTitle": false,
     "tableResultSettingsMap": {},
     "title": ""
    }
   },
   "outputs": [
    {
     "name": "stdout",
     "output_type": "stream",
     "text": [
      "Collecting azure-cosmos==4.9.0\n",
      "  Obtaining dependency information for azure-cosmos==4.9.0 from https://files.pythonhosted.org/packages/61/dc/380f843744535497acd0b85aacb59565c84fc28bf938c8d6e897a858cd95/azure_cosmos-4.9.0-py3-none-any.whl.metadata\n",
      "  Downloading azure_cosmos-4.9.0-py3-none-any.whl.metadata (80 kB)\n",
      "\u001b[?25l     \u001b[90m━━━━━━━━━━━━━━━━━━━━━━━━━━━━━━━━━━━━━━━━\u001b[0m \u001b[32m0.0/80.8 kB\u001b[0m \u001b[31m?\u001b[0m eta \u001b[36m-:--:--\u001b[0m\n",
      "\u001b[2K     \u001b[91m━━━━━━━━━━━━━━━━━━━━━━━━━━━━━━━━━━━\u001b[0m\u001b[90m╺\u001b[0m\u001b[90m━━━━\u001b[0m \u001b[32m71.7/80.8 kB\u001b[0m \u001b[31m2.3 MB/s\u001b[0m eta \u001b[36m0:00:01\u001b[0m\n",
      "\u001b[2K     \u001b[90m━━━━━━━━━━━━━━━━━━━━━━━━━━━━━━━━━━━━━━━━\u001b[0m \u001b[32m80.8/80.8 kB\u001b[0m \u001b[31m1.8 MB/s\u001b[0m eta \u001b[36m0:00:00\u001b[0m\n",
      "\u001b[?25hRequirement already satisfied: azure-core>=1.30.0 in /databricks/python3/lib/python3.11/site-packages (from azure-cosmos==4.9.0) (1.30.2)\n",
      "Requirement already satisfied: typing-extensions>=4.6.0 in /databricks/python3/lib/python3.11/site-packages (from azure-cosmos==4.9.0) (4.10.0)\n",
      "Requirement already satisfied: requests>=2.21.0 in /databricks/python3/lib/python3.11/site-packages (from azure-core>=1.30.0->azure-cosmos==4.9.0) (2.31.0)\n",
      "Requirement already satisfied: six>=1.11.0 in /usr/lib/python3/dist-packages (from azure-core>=1.30.0->azure-cosmos==4.9.0) (1.16.0)\n",
      "Requirement already satisfied: charset-normalizer<4,>=2 in /databricks/python3/lib/python3.11/site-packages (from requests>=2.21.0->azure-core>=1.30.0->azure-cosmos==4.9.0) (2.0.4)\n",
      "Requirement already satisfied: idna<4,>=2.5 in /databricks/python3/lib/python3.11/site-packages (from requests>=2.21.0->azure-core>=1.30.0->azure-cosmos==4.9.0) (3.4)\n",
      "Requirement already satisfied: urllib3<3,>=1.21.1 in /databricks/python3/lib/python3.11/site-packages (from requests>=2.21.0->azure-core>=1.30.0->azure-cosmos==4.9.0) (1.26.16)\n",
      "Requirement already satisfied: certifi>=2017.4.17 in /databricks/python3/lib/python3.11/site-packages (from requests>=2.21.0->azure-core>=1.30.0->azure-cosmos==4.9.0) (2023.7.22)\n",
      "Downloading azure_cosmos-4.9.0-py3-none-any.whl (303 kB)\n",
      "\u001b[?25l   \u001b[90m━━━━━━━━━━━━━━━━━━━━━━━━━━━━━━━━━━━━━━━━\u001b[0m \u001b[32m0.0/303.2 kB\u001b[0m \u001b[31m?\u001b[0m eta \u001b[36m-:--:--\u001b[0m\n",
      "\u001b[2K   \u001b[90m━━━━━━━━━━━━━━━━━━━━━━━━━━━━━━━━━━━━━━━━\u001b[0m \u001b[32m303.2/303.2 kB\u001b[0m \u001b[31m11.1 MB/s\u001b[0m eta \u001b[36m0:00:00\u001b[0m\n",
      "\u001b[?25hInstalling collected packages: azure-cosmos\n",
      "Successfully installed azure-cosmos-4.9.0\n",
      "\u001b[43mNote: you may need to restart the kernel using %restart_python or dbutils.library.restartPython() to use updated packages.\u001b[0m\n"
     ]
    }
   ],
   "source": [
    "pip install azure-cosmos==4.9.0"
   ]
  },
  {
   "cell_type": "code",
   "execution_count": 0,
   "metadata": {
    "application/vnd.databricks.v1+cell": {
     "cellMetadata": {
      "byteLimit": 2048000,
      "rowLimit": 10000
     },
     "inputWidgets": {},
     "nuid": "dae7c659-81f0-4a52-8a6b-f7bb59a931fa",
     "showTitle": false,
     "tableResultSettingsMap": {},
     "title": ""
    }
   },
   "outputs": [],
   "source": [
    "%restart_python or dbutils.library.restartPython()"
   ]
  },
  {
   "cell_type": "code",
   "execution_count": 0,
   "metadata": {
    "application/vnd.databricks.v1+cell": {
     "cellMetadata": {
      "byteLimit": 2048000,
      "rowLimit": 10000
     },
     "inputWidgets": {},
     "nuid": "20368649-bf4a-46be-ac94-fc069f30734f",
     "showTitle": false,
     "tableResultSettingsMap": {},
     "title": ""
    }
   },
   "outputs": [],
   "source": [
    "# Initialize Cosmos DB client and container\n",
    "url = \"cosmosdb-endPoint\"\n",
    "key = \"cosmosdb-key\"\n",
    "database_name = \"database-name\"\n",
    "bronze_container_name = \"bronze\"\n",
    "silver_container_name = \"silver\""
   ]
  },
  {
   "cell_type": "code",
   "execution_count": 0,
   "metadata": {
    "application/vnd.databricks.v1+cell": {
     "cellMetadata": {
      "byteLimit": 2048000,
      "rowLimit": 10000
     },
     "inputWidgets": {},
     "nuid": "ac93b283-1076-4c57-8045-8c41d187d801",
     "showTitle": false,
     "tableResultSettingsMap": {},
     "title": ""
    }
   },
   "outputs": [],
   "source": [
    "import json\n",
    "import logging\n",
    "from azure.cosmos import CosmosClient, PartitionKey\n",
    "import uuid\n",
    "from pyspark.sql.functions import *\n",
    "from langchain.text_splitter import RecursiveCharacterTextSplitter"
   ]
  },
  {
   "cell_type": "code",
   "execution_count": 0,
   "metadata": {
    "application/vnd.databricks.v1+cell": {
     "cellMetadata": {
      "byteLimit": 2048000,
      "rowLimit": 10000
     },
     "inputWidgets": {},
     "nuid": "d8d0b94f-f78b-4f08-bbb0-83b027cde161",
     "showTitle": false,
     "tableResultSettingsMap": {},
     "title": ""
    }
   },
   "outputs": [],
   "source": [
    "\n",
    "client = CosmosClient(url, credential=key)\n",
    "database = client.get_database_client(database_name)\n",
    "bronze_container = database.get_container_client(bronze_container_name)"
   ]
  },
  {
   "cell_type": "code",
   "execution_count": 0,
   "metadata": {
    "application/vnd.databricks.v1+cell": {
     "cellMetadata": {
      "byteLimit": 2048000,
      "rowLimit": 10000
     },
     "inputWidgets": {},
     "nuid": "274d228a-8617-4b96-9799-e34bc2446cde",
     "showTitle": false,
     "tableResultSettingsMap": {},
     "title": ""
    }
   },
   "outputs": [],
   "source": [
    "# Retreive the data that are not processed yet\n",
    "query = \"SELECT * FROM c WHERE c.processed = false\"\n",
    "items = bronze_container.query_items(query=query, enable_cross_partition_query=True)\n"
   ]
  },
  {
   "cell_type": "code",
   "execution_count": 0,
   "metadata": {
    "application/vnd.databricks.v1+cell": {
     "cellMetadata": {
      "byteLimit": 2048000,
      "rowLimit": 10000
     },
     "inputWidgets": {},
     "nuid": "2cfc549b-19bf-40da-9cfb-9d543fcad0c9",
     "showTitle": false,
     "tableResultSettingsMap": {},
     "title": ""
    }
   },
   "outputs": [],
   "source": [
    "items_list =list(items)"
   ]
  },
  {
   "cell_type": "code",
   "execution_count": 0,
   "metadata": {
    "application/vnd.databricks.v1+cell": {
     "cellMetadata": {
      "byteLimit": 2048000,
      "rowLimit": 10000
     },
     "inputWidgets": {},
     "nuid": "9f609f53-a636-492e-aeee-f7f2838667e0",
     "showTitle": false,
     "tableResultSettingsMap": {},
     "title": ""
    }
   },
   "outputs": [
    {
     "data": {
      "text/plain": [
       "1126"
      ]
     },
     "execution_count": 28,
     "metadata": {},
     "output_type": "execute_result"
    }
   ],
   "source": [
    "len(items_list)"
   ]
  },
  {
   "cell_type": "code",
   "execution_count": 0,
   "metadata": {
    "application/vnd.databricks.v1+cell": {
     "cellMetadata": {
      "byteLimit": 2048000,
      "rowLimit": 10000
     },
     "inputWidgets": {},
     "nuid": "4ea6e330-8e11-408d-adb3-fe3d7b2f63cd",
     "showTitle": false,
     "tableResultSettingsMap": {},
     "title": ""
    }
   },
   "outputs": [],
   "source": [
    "\n",
    "def process_content(content: str) -> list:\n",
    "    if content:\n",
    "        # Define the text splitter\n",
    "        text_splitter = RecursiveCharacterTextSplitter(\n",
    "            chunk_size=1100,\n",
    "            chunk_overlap=150,\n",
    "            length_function=len,\n",
    "            add_start_index=True,\n",
    "        )\n",
    "\n",
    "        # Process the content\n",
    "        chunks = text_splitter.create_documents([content])\n",
    "\n",
    "        # Add end_index for each chunk\n",
    "        for chunk in chunks:\n",
    "            start_index = chunk.metadata.get(\"start_index\", 0)\n",
    "            end_index = start_index + len(chunk.page_content)\n",
    "            chunk.metadata[\"end_index\"] = end_index\n",
    "\n",
    "        return chunks\n",
    "\n",
    "    return []"
   ]
  },
  {
   "cell_type": "code",
   "execution_count": 0,
   "metadata": {
    "application/vnd.databricks.v1+cell": {
     "cellMetadata": {
      "byteLimit": 2048000,
      "rowLimit": 10000
     },
     "inputWidgets": {},
     "nuid": "d084d2c1-d946-4ebc-8b7f-84c701b295c7",
     "showTitle": false,
     "tableResultSettingsMap": {},
     "title": ""
    }
   },
   "outputs": [],
   "source": [
    "\n",
    "def create_chunks_list(news_df,news_chunks):\n",
    "    n=0\n",
    "    structured_news_chunks = []\n",
    "\n",
    "    for news in news_df.rdd.collect():\n",
    "\n",
    "        chunks = news_chunks[n]  \n",
    "\n",
    "        for data_chunk in chunks:\n",
    "            # print(data_chunk)\n",
    "            \n",
    "            chunk ={\n",
    "                \"id\" : str(uuid.uuid4()),\n",
    "                \"news_id\":news.id,\n",
    "                \"guid\" : news.guid,\n",
    "                \"pub_date\":news.pub_date,\n",
    "                \"chunk_text\": data_chunk.page_content,\n",
    "                \"start_index\":data_chunk.metadata[\"start_index\"] ,\n",
    "                \"end_index\":data_chunk.metadata[\"end_index\"],\n",
    "                \"processed\":False  \n",
    "            }\n",
    "            structured_news_chunks.append(chunk)\n",
    "    \n",
    "    return structured_news_chunks\n",
    "\n",
    "\n"
   ]
  },
  {
   "cell_type": "code",
   "execution_count": 0,
   "metadata": {
    "application/vnd.databricks.v1+cell": {
     "cellMetadata": {
      "byteLimit": 2048000,
      "rowLimit": 10000
     },
     "inputWidgets": {},
     "nuid": "53060ea1-da00-40f3-ab83-ea3f2eb258ec",
     "showTitle": false,
     "tableResultSettingsMap": {},
     "title": ""
    }
   },
   "outputs": [],
   "source": [
    "def declare_procced_news(record):\n",
    "    record[\"processed\"] = True\n",
    "    return record"
   ]
  },
  {
   "cell_type": "code",
   "execution_count": 0,
   "metadata": {
    "application/vnd.databricks.v1+cell": {
     "cellMetadata": {
      "byteLimit": 2048000,
      "rowLimit": 10000
     },
     "inputWidgets": {},
     "nuid": "b58be9d0-77e5-4c9b-9f9d-8e2aaf15a5af",
     "showTitle": false,
     "tableResultSettingsMap": {},
     "title": ""
    }
   },
   "outputs": [
    {
     "name": "stdout",
     "output_type": "stream",
     "text": [
      "no items\n"
     ]
    }
   ],
   "source": [
    "if len(items_list)!=0:\n",
    "    try:\n",
    "\n",
    "        \n",
    "        news_df = spark.createDataFrame(items_list)    \n",
    "        news_df = news_df.na.drop()  \n",
    "\n",
    "        spark.conf.set(\"spark.sql.legacy.timeParserPolicy\", \"LEGACY\")\n",
    "\n",
    "\n",
    "            # Define the transformation based on the condition\n",
    "        news_df = news_df.withColumn(\n",
    "            \"pub_date\",\n",
    "            when(\n",
    "                col(\"link\").contains(\"https://www.amazon.science\"),\n",
    "                to_timestamp(unix_timestamp(col(\"pub_date\"), \"EEE, dd MMM yyyy HH:mm:ss 'GMT'\").cast(\"timestamp\"))\n",
    "            ).otherwise(\n",
    "                to_timestamp(unix_timestamp(col(\"pub_date\"), \"EEE, dd MMM yyyy HH:mm:ss Z\").cast(\"timestamp\"))\n",
    "            )\n",
    "        )\n",
    "\n",
    "\n",
    "\n",
    "        content_list = news_df.select(\"content\").rdd.flatMap(lambda x: x).collect()\n",
    "        news_chunks = list(map(process_content, content_list))\n",
    "\n",
    "        structured_news_chunks = create_chunks_list(news_df,news_chunks)\n",
    "\n",
    "\n",
    "        # store  'chunks' into silver container\n",
    "        silver_container = database.get_container_client(silver_container_name)\n",
    "        for record in structured_news_chunks:        \n",
    "            try:\n",
    "                record[\"pub_date\"]=  record[\"pub_date\"].isoformat()\n",
    "                # Insert each updated record into Cosmos DB\n",
    "                silver_container.upsert_item(body=record)\n",
    "                logging.info(f\"Data inserted into Cosmos DB:\")\n",
    "            except Exception as e:\n",
    "                logging.error(f\"Error inserting data into Cosmos DB: {e}\")\n",
    "        \n",
    "        #update the processed news\n",
    "        items_list = list(map(declare_procced_news,items_list))\n",
    "        for item in items_list:\n",
    "            try:\n",
    "            \n",
    "                # Utiliser upsert pour mettre à jour ou insérer le document\n",
    "                bronze_container.upsert_item(body=item)\n",
    "\n",
    "                logging.info(f\"Document {item['id']} mis à jour avec succès.\")\n",
    "            except exceptions.CosmosHttpResponseError as e:\n",
    "                logging.info(f\"Erreur lors de la mise à jour du document {item['id']}: {str(e)}\")\n",
    "\n",
    "    except Exception as e:\n",
    "        logging.error(e)\n",
    "    \n",
    "else:\n",
    "    logging.info(\"No items to process\") "
   ]
  },
  {
   "cell_type": "code",
   "execution_count": 0,
   "metadata": {
    "application/vnd.databricks.v1+cell": {
     "cellMetadata": {
      "byteLimit": 2048000,
      "rowLimit": 10000
     },
     "inputWidgets": {},
     "nuid": "47a32fe1-c780-4e2d-9ba9-0ce0bbe0ade0",
     "showTitle": false,
     "tableResultSettingsMap": {},
     "title": ""
    }
   },
   "outputs": [],
   "source": [
    "# structured_news_chunks[91]"
   ]
  },
  {
   "cell_type": "code",
   "execution_count": 0,
   "metadata": {
    "application/vnd.databricks.v1+cell": {
     "cellMetadata": {
      "byteLimit": 2048000,
      "rowLimit": 10000
     },
     "inputWidgets": {},
     "nuid": "507961a8-822e-431b-983a-1e70797af041",
     "showTitle": false,
     "tableResultSettingsMap": {},
     "title": ""
    }
   },
   "outputs": [
    {
     "data": {
      "text/plain": [
       "8472"
      ]
     },
     "execution_count": 150,
     "metadata": {},
     "output_type": "execute_result"
    }
   ],
   "source": [
    "# len(structured_news_chunks)"
   ]
  },
  {
   "cell_type": "code",
   "execution_count": 0,
   "metadata": {
    "application/vnd.databricks.v1+cell": {
     "cellMetadata": {
      "byteLimit": 2048000,
      "rowLimit": 10000
     },
     "inputWidgets": {},
     "nuid": "747f2922-b073-45b0-9856-4a0f6c67a68b",
     "showTitle": false,
     "tableResultSettingsMap": {},
     "title": ""
    }
   },
   "outputs": [],
   "source": [
    "# query = \"SELECT * FROM c WHERE\"\n",
    "# silver_container.delete_item({\n",
    "#     \"id\": \"4\",\n",
    "#     \"pub_date\": \"amkdma\",\n",
    "#     \"_rid\": \"qVwcAOuXoKwBAAAAAAAAAA==\",\n",
    "#     \"_self\": \"dbs/qVwcAA==/colls/qVwcAOuXoKw=/docs/qVwcAOuXoKwBAAAAAAAAAA==/\",\n",
    "#     \"_etag\": \"\\\"4d0169ad-0000-0e00-0000-675ca1ae0000\\\"\",\n",
    "#     \"_attachments\": \"attachments/\",\n",
    "#     \"_ts\": 1734123950\n",
    "# },partition_key=\"amkdma\")"
   ]
  },
  {
   "cell_type": "code",
   "execution_count": 0,
   "metadata": {
    "application/vnd.databricks.v1+cell": {
     "cellMetadata": {
      "byteLimit": 2048000,
      "rowLimit": 10000
     },
     "inputWidgets": {},
     "nuid": "6d43bfd7-00e5-453d-952c-2e1c063e9e5b",
     "showTitle": false,
     "tableResultSettingsMap": {},
     "title": ""
    }
   },
   "outputs": [],
   "source": [
    "# items_list[0]"
   ]
  },
  {
   "cell_type": "code",
   "execution_count": 0,
   "metadata": {
    "application/vnd.databricks.v1+cell": {
     "cellMetadata": {
      "byteLimit": 2048000,
      "rowLimit": 10000
     },
     "inputWidgets": {},
     "nuid": "d59e50f8-6c64-4442-be1d-63cc96c04f82",
     "showTitle": false,
     "tableResultSettingsMap": {},
     "title": ""
    }
   },
   "outputs": [],
   "source": [
    "# import datetime\n",
    "# datetime.datetime(2024, 9, 5, 16, 22, 56).isoformat()"
   ]
  },
  {
   "cell_type": "code",
   "execution_count": 0,
   "metadata": {
    "application/vnd.databricks.v1+cell": {
     "cellMetadata": {
      "byteLimit": 2048000,
      "rowLimit": 10000
     },
     "inputWidgets": {},
     "nuid": "456cd999-7ca8-4e65-bafe-8dd0d345c09f",
     "showTitle": false,
     "tableResultSettingsMap": {},
     "title": ""
    }
   },
   "outputs": [],
   "source": [
    "# #update the processed news\n",
    "# # items_list = list(map(declare_procced_news,items_list))\n",
    "# for item in items_list:\n",
    "#     try:\n",
    "#         item[\"processed\"]=False\n",
    "#         # Utiliser upsert pour mettre à jour ou insérer le document\n",
    "#         bronze_container.upsert_item(body=item)\n",
    "\n",
    "#         logging.info(f\"Document {item['id']} mis à jour avec succès.\")\n",
    "#     except exceptions.CosmosHttpResponseError as e:\n",
    "#         logging.info(f\"Erreur lors de la mise à jour du document {item['id']}: {str(e)}\")"
   ]
  }
 ],
 "metadata": {
  "application/vnd.databricks.v1+notebook": {
   "computePreferences": null,
   "dashboards": [],
   "environmentMetadata": {
    "base_environment": "",
    "client": "1"
   },
   "language": "python",
   "notebookMetadata": {
    "pythonIndentUnit": 4
   },
   "notebookName": "bronzeTosilver",
   "widgets": {}
  },
  "language_info": {
   "name": "python"
  }
 },
 "nbformat": 4,
 "nbformat_minor": 0
}
