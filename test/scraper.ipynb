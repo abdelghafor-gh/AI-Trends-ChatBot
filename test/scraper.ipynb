{
 "cells": [
  {
   "cell_type": "code",
   "execution_count": 2,
   "metadata": {},
   "outputs": [],
   "source": [
    "from bs4 import BeautifulSoup\n",
    "import requests\n",
    "import feedparser\n",
    "from lxml import etree\n",
    "import json\n",
    "import pandas as pd"
   ]
  },
  {
   "cell_type": "code",
   "execution_count": 3,
   "metadata": {},
   "outputs": [],
   "source": [
    "def fetch_feed(feed_url=\"https://www.amazon.science/index.rss\"):\n",
    "        \"\"\"Fetch and parse the RSS feed.\"\"\"\n",
    "        try:\n",
    "            # self.logger.info(f\"Fetching feed from {self.feed_url}\")\n",
    "            response = requests.get(feed_url)\n",
    "            response.raise_for_status()\n",
    "            feed = feedparser.parse(response.text)\n",
    "            return feed\n",
    "            exit()\n",
    "            # return self._process_feed(feed)\n",
    "        except requests.RequestException as e:\n",
    "            # self.logger.error(f\"Error fetching feed: {e}\")\n",
    "            return {}"
   ]
  },
  {
   "cell_type": "code",
   "execution_count": 5,
   "metadata": {},
   "outputs": [],
   "source": [
    "feed_url = \"https://www.amazon.science/index.rss\"\n",
    "feed = fetch_feed(feed_url)\n",
    "# import json\n",
    "\n",
    "# Convert feed to JSON-serializable format\n",
    "feed_json = json.loads(json.dumps(feed, default=str))\n",
    "\n",
    "# Save feed as JSON file\n",
    "with open('amazon_science_feed.json', 'w', encoding='utf-8') as f:\n",
    "    json.dump(feed_json, f, ensure_ascii=False, indent=4)\n"
   ]
  },
  {
   "cell_type": "code",
   "execution_count": 6,
   "metadata": {},
   "outputs": [],
   "source": [
    "feed_url = \"https://deepmind.google/blog/rss.xml\"\n",
    "feed = fetch_feed(feed_url)\n",
    "# import json\n",
    "\n",
    "# Convert feed to JSON-serializable format\n",
    "feed_json = json.loads(json.dumps(feed, default=str))\n",
    "\n",
    "# Save feed as JSON file\n",
    "with open('google_deepmind_feed.json', 'w', encoding='utf-8') as f:\n",
    "    json.dump(feed_json, f, ensure_ascii=False, indent=4)\n"
   ]
  },
  {
   "cell_type": "code",
   "execution_count": 11,
   "metadata": {},
   "outputs": [
    {
     "data": {
      "text/plain": [
       "177"
      ]
     },
     "execution_count": 11,
     "metadata": {},
     "output_type": "execute_result"
    }
   ],
   "source": [
    "summary = feed_json['entries'][0]['summary']\n",
    "len(summary)"
   ]
  },
  {
   "cell_type": "code",
   "execution_count": 13,
   "metadata": {},
   "outputs": [],
   "source": [
    "feed_url = \"https://news.mit.edu/topic/mitartificial-intelligence2-rss.xml\"\n",
    "feed = fetch_feed(feed_url)\n",
    "# import json\n",
    "\n",
    "# Convert feed to JSON-serializable format\n",
    "feed_json = json.loads(json.dumps(feed, default=str))\n",
    "\n",
    "# Save feed as JSON file\n",
    "with open('mit_news.json', 'w', encoding='utf-8') as f:\n",
    "    json.dump(feed_json, f, ensure_ascii=False, indent=4)\n"
   ]
  }
 ],
 "metadata": {
  "kernelspec": {
   "display_name": "Python 3",
   "language": "python",
   "name": "python3"
  },
  "language_info": {
   "codemirror_mode": {
    "name": "ipython",
    "version": 3
   },
   "file_extension": ".py",
   "mimetype": "text/x-python",
   "name": "python",
   "nbconvert_exporter": "python",
   "pygments_lexer": "ipython3",
   "version": "3.10.2"
  }
 },
 "nbformat": 4,
 "nbformat_minor": 2
}
